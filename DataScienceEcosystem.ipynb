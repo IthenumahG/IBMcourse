{
 "cells": [
  {
   "cell_type": "markdown",
   "id": "552e2776",
   "metadata": {},
   "source": [
    "# Data Science Tools and Ecosystem"
   ]
  },
  {
   "cell_type": "markdown",
   "id": "efcc1f93",
   "metadata": {},
   "source": [
    "### Introduction  \n",
    "In this notebook, Data Science Tools and Ecosystem are summarized."
   ]
  },
  {
   "cell_type": "markdown",
   "id": "cd46be36",
   "metadata": {},
   "source": [
    "**Objectives:**  \n",
    "* List popular languages for Data Science\n",
    "* List Data Science lirearies\n",
    "* List Data Science tools\n",
    "* Try out arithemetic expressions\n",
    "* Understand how jupyter notebooks work"
   ]
  },
  {
   "cell_type": "markdown",
   "id": "c1a283d0",
   "metadata": {},
   "source": [
    "### Data Science Languages  \n",
    "Some of the popular languages that Data Scientists use are:  \n",
    "1. Python\n",
    "2. R\n",
    "3. SQL\n",
    "4. Scala\n",
    "5. C++\n"
   ]
  },
  {
   "cell_type": "markdown",
   "id": "4f2fcb8e",
   "metadata": {},
   "source": [
    "### Data Science Libraries  \n",
    "Some of the commonly used libraries by Data Scientists include:  \n",
    "1. Pandas\n",
    "2. Scipy\n",
    "3. Numpy"
   ]
  },
  {
   "cell_type": "markdown",
   "id": "b47de459",
   "metadata": {},
   "source": [
    "### Table of Data Science Tools. \n",
    "\n",
    "| Data Science Tools |\n",
    "|--------------------|\n",
    "| Apache Spark |\n",
    "| Jupyter |\n",
    "| Visual Studio Code |"
   ]
  },
  {
   "cell_type": "markdown",
   "id": "5b505a65",
   "metadata": {},
   "source": [
    "### Below are a few examples of evaluating arithmetic expressions in Python"
   ]
  },
  {
   "cell_type": "code",
   "execution_count": 2,
   "id": "9a254063",
   "metadata": {},
   "outputs": [
    {
     "data": {
      "text/plain": [
       "17"
      ]
     },
     "execution_count": 2,
     "metadata": {},
     "output_type": "execute_result"
    }
   ],
   "source": [
    "# This a simple arithmetic expression to mutiply then add integers\n",
    "\n",
    "(3*4)+5"
   ]
  },
  {
   "cell_type": "code",
   "execution_count": 3,
   "id": "12b0393f",
   "metadata": {},
   "outputs": [
    {
     "data": {
      "text/plain": [
       "3.3333333333333335"
      ]
     },
     "execution_count": 3,
     "metadata": {},
     "output_type": "execute_result"
    }
   ],
   "source": [
    "# This will convert 200 minutes to hours by diving by 60\n",
    "\n",
    "200/60"
   ]
  },
  {
   "cell_type": "markdown",
   "id": "61a1e643",
   "metadata": {},
   "source": [
    "## Author  \n",
    "\n",
    "Gideon Ithenumah\n",
    "\n"
   ]
  },
  {
   "cell_type": "code",
   "execution_count": null,
   "id": "41db38af",
   "metadata": {},
   "outputs": [],
   "source": []
  }
 ],
 "metadata": {
  "kernelspec": {
   "display_name": "Python 3 (ipykernel)",
   "language": "python",
   "name": "python3"
  },
  "language_info": {
   "codemirror_mode": {
    "name": "ipython",
    "version": 3
   },
   "file_extension": ".py",
   "mimetype": "text/x-python",
   "name": "python",
   "nbconvert_exporter": "python",
   "pygments_lexer": "ipython3",
   "version": "3.9.12"
  }
 },
 "nbformat": 4,
 "nbformat_minor": 5
}
